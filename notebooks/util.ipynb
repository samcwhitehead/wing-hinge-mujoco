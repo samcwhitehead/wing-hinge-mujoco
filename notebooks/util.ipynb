{
 "cells": [
  {
   "cell_type": "markdown",
   "id": "1dcd9e12",
   "metadata": {},
   "source": [
    "# Notebook to house some utility functions for Mujoco modeling"
   ]
  },
  {
   "cell_type": "markdown",
   "id": "0b4a760a",
   "metadata": {},
   "source": [
    "### Imports"
   ]
  },
  {
   "cell_type": "code",
   "execution_count": 1,
   "id": "92b9143b",
   "metadata": {},
   "outputs": [],
   "source": [
    "import os\n",
    "\n",
    "import numpy as np\n",
    "\n",
    "from scipy.spatial.transform import Rotation as R"
   ]
  },
  {
   "cell_type": "markdown",
   "id": "4d88b73e",
   "metadata": {},
   "source": [
    "### Helper functions"
   ]
  },
  {
   "cell_type": "code",
   "execution_count": 2,
   "id": "e1407477",
   "metadata": {},
   "outputs": [],
   "source": [
    "def my_norm(x):\n",
    "    \"\"\"\n",
    "    Get vector norm\n",
    "    \"\"\"\n",
    "    return np.sqrt(np.sum(np.asarray(x)**2))"
   ]
  },
  {
   "cell_type": "code",
   "execution_count": 3,
   "id": "05eec2c5",
   "metadata": {},
   "outputs": [],
   "source": [
    "def unit_axis_angle(a, b):\n",
    "    \"\"\" \n",
    "    Get the rotation vector between two vectors a and b \n",
    "    in axis, angle format\n",
    "        \n",
    "    \"\"\"\n",
    "    # get unit vectors \n",
    "    a_hat = a/my_norm(a)\n",
    "    b_hat = b/my_norm(b)\n",
    "    \n",
    "    # cross product defines axis of rotation\n",
    "    n = np.cross(a_hat, b_hat)\n",
    "    n_hat = n/my_norm(n)\n",
    "    \n",
    "    # get rotation angle from arc cosine of dot product\n",
    "    theta = np.arccos(np.dot(a_hat, b_hat))\n",
    "    \n",
    "    return n_hat, theta"
   ]
  },
  {
   "cell_type": "code",
   "execution_count": 4,
   "id": "b30918aa",
   "metadata": {},
   "outputs": [],
   "source": [
    "def rotation_matrix(axis, angle):\n",
    "    \"\"\"\n",
    "    Convert axis-angle representation to a rotation matrix\n",
    "    \n",
    "    \"\"\"\n",
    "    ax, ay, az = axis[0], axis[1], axis[2]\n",
    "    s = np.sin(angle)\n",
    "    c = np.cos(angle)\n",
    "    u = 1 - c\n",
    "    return ( ( ax*ax*u + c,    ax*ay*u - az*s, ax*az*u + ay*s ),\n",
    "             ( ay*ax*u + az*s, ay*ay*u + c,    ay*az*u - ax*s ),\n",
    "             ( az*ax*u - ay*s, az*ay*u + ax*s, az*az*u + c    ) )\n"
   ]
  },
  {
   "cell_type": "code",
   "execution_count": 5,
   "id": "441474c4",
   "metadata": {},
   "outputs": [],
   "source": [
    "def euler_to_axis(start_euler, end_euler, seq='XYZ', deg_flag=False):\n",
    "    \"\"\"\n",
    "    Function for a specialized problem: given two sets of euler angles \n",
    "    specifying the orientation of two bodies, what is the (joint) axis\n",
    "    that we should rotate the \"start\" body by to get it into \"end\" \n",
    "    orientation?\n",
    "    \n",
    "    from scipy.spatial.transform import Rotation as R\n",
    "    \"\"\"\n",
    "    # get rotation matrices from euler angle representations\n",
    "    rot_mat_start = R.from_euler(seq, start_euler,degrees=deg_flag).as_matrix()\n",
    "    rot_mat_end = R.from_euler(seq, end_euler,degrees=deg_flag).as_matrix()\n",
    "    \n",
    "    # get rotation from start to end orientation\n",
    "    rot_mat = rot_mat_end.dot(np.transpose(rot_mat_start))\n",
    "\n",
    "    # get axis angle from combined rotation matrix\n",
    "    r = R.from_matrix(rot_mat).as_rotvec()\n",
    "    axis = r/my_norm(r)\n",
    "    angle = my_norm(r)\n",
    "    if deg_flag:\n",
    "        angle = np.rad2deg(angle)\n",
    "\n",
    "    return axis, angle\n"
   ]
  },
  {
   "cell_type": "markdown",
   "id": "097d7d07",
   "metadata": {},
   "source": [
    "### Tests"
   ]
  },
  {
   "cell_type": "code",
   "execution_count": 6,
   "id": "f7051bec",
   "metadata": {},
   "outputs": [
    {
     "name": "stdout",
     "output_type": "stream",
     "text": [
      "a =  [0.96375385 0.13820297 0.69180582]\n",
      "b =  [0.94152245 0.55324943 0.48370173]\n",
      "c =  [0.94152245 0.55324943 0.48370173]\n"
     ]
    }
   ],
   "source": [
    "# quick test of finding rotation matrix between two vectors\n",
    "a = np.random.rand(3)\n",
    "b = np.random.rand(3) \n",
    "\n",
    "s = my_norm(a) / my_norm(b)\n",
    "b = s*b\n",
    "\n",
    "axis, angle = unit_axis_angle(a, b)\n",
    "rot_mat = rotation_matrix(axis, angle)\n",
    "c = rot_mat @ a\n",
    "\n",
    "print('a = ', a)\n",
    "print('b = ', b)\n",
    "print('c = ', c)"
   ]
  },
  {
   "cell_type": "code",
   "execution_count": null,
   "id": "b6003fc1",
   "metadata": {},
   "outputs": [],
   "source": []
  },
  {
   "cell_type": "markdown",
   "id": "79ef923e",
   "metadata": {},
   "source": [
    "### Getting slide props for SLA"
   ]
  },
  {
   "cell_type": "code",
   "execution_count": 7,
   "id": "c31df98e",
   "metadata": {},
   "outputs": [
    {
     "name": "stdout",
     "output_type": "stream",
     "text": [
      "0.43699227832537274\n"
     ]
    }
   ],
   "source": [
    "# get center of mass for SLA in both positions\n",
    "sla_up_cm = np.array([-0.31764, -2.65612, 9.31039])\n",
    "sla_down_cm = np.array([-0.701694, -2.84062, 9.40747])\n",
    "\n",
    "# so direction of translation vector is \n",
    "translation_vec = sla_down_cm - sla_up_cm \n",
    "t_vec_hat = translation_vec/my_norm(translation_vec)\n",
    "\n",
    "print(my_norm(translation_vec))"
   ]
  },
  {
   "cell_type": "code",
   "execution_count": 8,
   "id": "eff32cb9",
   "metadata": {},
   "outputs": [
    {
     "name": "stdout",
     "output_type": "stream",
     "text": [
      "((-0.8788576344455308, 0.42220425657641963, -0.22215495516769035), (-0.42220425657641963, -0.47146238605599833, 0.7742524034597099), (0.22215495516769035, 0.7742524034597099, 0.5926047516104676))\n"
     ]
    }
   ],
   "source": [
    "# get rotation between global x axis and rotation vec\n",
    "x_hat = np.array([1,0,0])\n",
    "axis, angle = unit_axis_angle(x_hat, t_vec_hat)\n",
    "rot_mat = rotation_matrix(axis, angle)\n",
    "\n",
    "print(rot_mat)"
   ]
  },
  {
   "cell_type": "code",
   "execution_count": 9,
   "id": "9a321d9e",
   "metadata": {},
   "outputs": [
    {
     "name": "stdout",
     "output_type": "stream",
     "text": [
      "[ -52.56993181  -12.83563548 -154.3403148 ]\n"
     ]
    }
   ],
   "source": [
    "# convert to rotation object and express as euler angles \n",
    "r0 = R.from_matrix(rot_mat)\n",
    "r1 = R.as_euler(r0, 'XYZ')\n",
    "\n",
    "print(np.rad2deg(r1))"
   ]
  },
  {
   "cell_type": "markdown",
   "id": "2db8ca3b",
   "metadata": {},
   "source": [
    "### Getting hinge props for SLA"
   ]
  },
  {
   "cell_type": "code",
   "execution_count": 10,
   "id": "ca26740b",
   "metadata": {},
   "outputs": [
    {
     "name": "stdout",
     "output_type": "stream",
     "text": [
      "[-0.65983511  0.5828032   0.47429744]\n",
      "19.08376565672737\n"
     ]
    }
   ],
   "source": [
    "# Now get axis angle representation of rotation between the two objects, according to their euler angles \n",
    "sla_up_euler = [-0.000003,-4.3418,-0.000001]\n",
    "sla_down_euler = [-12.7807, 5.71, 10.2]  # NB: this reflects the difference in mesh  # [-0.000002,9.88261,0.000001]\n",
    "\n",
    "# covnert to radian\n",
    "sla_up_euler = [np.deg2rad(d) for d in sla_up_euler]\n",
    "sla_down_euler = [np.deg2rad(d) for d in sla_down_euler]\n",
    "\n",
    "# get axis angle\n",
    "sla_axis, sla_angle = euler_to_axis(sla_up_euler, sla_down_euler)\n",
    "\n",
    "print(sla_axis)\n",
    "print(np.rad2deg(sla_angle))"
   ]
  },
  {
   "cell_type": "code",
   "execution_count": 11,
   "id": "c23d2ab2",
   "metadata": {},
   "outputs": [
    {
     "name": "stdout",
     "output_type": "stream",
     "text": [
      "[ 67.37466597 -28.31361635 138.54726142]\n"
     ]
    }
   ],
   "source": [
    "# a little indirect, but not get the euler angles needed to make my empty axis object have the right orientation\n",
    "x_hat = np.array([1,0,0])\n",
    "to_rot_axis, to_rot_angle = unit_axis_angle(x_hat, sla_axis)\n",
    "to_rot_mat = rotation_matrix(to_rot_axis, to_rot_angle)\n",
    "\n",
    "hinge_euler = (R.from_matrix(to_rot_mat)).as_euler('XYZ', degrees=True)\n",
    "\n",
    "print(hinge_euler)"
   ]
  },
  {
   "cell_type": "markdown",
   "id": "21e2b6b2",
   "metadata": {},
   "source": [
    "### Get Euler angles that will align xhat to a given unit vector"
   ]
  },
  {
   "cell_type": "code",
   "execution_count": 13,
   "id": "3154437e",
   "metadata": {},
   "outputs": [
    {
     "name": "stdout",
     "output_type": "stream",
     "text": [
      "[  9.19577105  18.80079961 -51.81748813]\n"
     ]
    }
   ],
   "source": [
    "x_hat = np.array([1,0,0])\n",
    "rot_axis = np.array([0.5851859757164767, -0.74410596040849, -0.3222789063983468])\n",
    "to_rot_axis, to_rot_angle = unit_axis_angle(x_hat, rot_axis)\n",
    "to_rot_mat = rotation_matrix(to_rot_axis, to_rot_angle)\n",
    "\n",
    "hinge_euler = (R.from_matrix(to_rot_mat)).as_euler('XYZ', degrees=True)\n",
    "print(hinge_euler)"
   ]
  },
  {
   "cell_type": "code",
   "execution_count": null,
   "id": "758d37b9",
   "metadata": {},
   "outputs": [],
   "source": []
  },
  {
   "cell_type": "markdown",
   "id": "a775a1d9",
   "metadata": {},
   "source": [
    "## Scratch"
   ]
  },
  {
   "cell_type": "code",
   "execution_count": 12,
   "id": "da73a764",
   "metadata": {},
   "outputs": [
    {
     "name": "stdout",
     "output_type": "stream",
     "text": [
      "[1.75 1.85 1.95 2.05 2.15 2.25 2.35 2.45 2.55 2.65 2.75]\n"
     ]
    }
   ],
   "source": [
    "time_pts = np.linspace(1.75, 2.75, 11)\n",
    "print(time_pts)"
   ]
  },
  {
   "cell_type": "code",
   "execution_count": null,
   "id": "54e9bc0e",
   "metadata": {},
   "outputs": [],
   "source": []
  }
 ],
 "metadata": {
  "kernelspec": {
   "display_name": "wing-hinge-mujoco",
   "language": "python",
   "name": "wing-hinge-mujoco"
  },
  "language_info": {
   "codemirror_mode": {
    "name": "ipython",
    "version": 3
   },
   "file_extension": ".py",
   "mimetype": "text/x-python",
   "name": "python",
   "nbconvert_exporter": "python",
   "pygments_lexer": "ipython3",
   "version": "3.10.12"
  }
 },
 "nbformat": 4,
 "nbformat_minor": 5
}
